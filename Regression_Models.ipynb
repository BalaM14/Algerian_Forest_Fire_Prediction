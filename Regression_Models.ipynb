{
 "cells": [
  {
   "cell_type": "code",
   "execution_count": 2,
   "metadata": {},
   "outputs": [],
   "source": [
    "import pandas as pd\n",
    "import numpy as np\n",
    "import matplotlib.pyplot as plt\n",
    "import seaborn as sns\n",
    "\n",
    "%matplotlib inline\n",
    "\n",
    "from sklearn.pipeline import Pipeline, make_pipeline\n",
    "\n",
    "from sklearn.preprocessing import OneHotEncoder,PowerTransformer, StandardScaler, MinMaxScaler\n",
    "\n",
    "from sklearn.model_selection import train_test_split,GridSearchCV,RandomizedSearchCV\n",
    "\n",
    "from sklearn.linear_model import LinearRegression, Ridge, Lasso, ElasticNet\n",
    "from sklearn.tree import DecisionTreeRegressor\n",
    "from sklearn.ensemble import RandomForestRegressor, AdaBoostRegressor, GradientBoostingRegressor\n",
    "from sklearn.svm import SVR\n",
    "from sklearn.neighbors import KNeighborsRegressor\n",
    "\n",
    "from sklearn.metrics import r2_score,mean_absolute_error\n",
    "\n",
    "import pickle\n",
    "import warnings\n",
    "warnings.filterwarnings('ignore')"
   ]
  },
  {
   "cell_type": "code",
   "execution_count": 3,
   "metadata": {},
   "outputs": [
    {
     "data": {
      "text/html": [
       "<div>\n",
       "<style scoped>\n",
       "    .dataframe tbody tr th:only-of-type {\n",
       "        vertical-align: middle;\n",
       "    }\n",
       "\n",
       "    .dataframe tbody tr th {\n",
       "        vertical-align: top;\n",
       "    }\n",
       "\n",
       "    .dataframe thead th {\n",
       "        text-align: right;\n",
       "    }\n",
       "</style>\n",
       "<table border=\"1\" class=\"dataframe\">\n",
       "  <thead>\n",
       "    <tr style=\"text-align: right;\">\n",
       "      <th></th>\n",
       "      <th>day</th>\n",
       "      <th>month</th>\n",
       "      <th>Temperature</th>\n",
       "      <th>RH</th>\n",
       "      <th>Ws</th>\n",
       "      <th>Rain</th>\n",
       "      <th>FFMC</th>\n",
       "      <th>DMC</th>\n",
       "      <th>DC</th>\n",
       "      <th>ISI</th>\n",
       "      <th>BUI</th>\n",
       "      <th>FWI</th>\n",
       "      <th>Classes</th>\n",
       "    </tr>\n",
       "  </thead>\n",
       "  <tbody>\n",
       "    <tr>\n",
       "      <th>0</th>\n",
       "      <td>1.0</td>\n",
       "      <td>6.0</td>\n",
       "      <td>29.0</td>\n",
       "      <td>57.0</td>\n",
       "      <td>18.0</td>\n",
       "      <td>0.00</td>\n",
       "      <td>65.70</td>\n",
       "      <td>3.4</td>\n",
       "      <td>7.6</td>\n",
       "      <td>1.3</td>\n",
       "      <td>3.4</td>\n",
       "      <td>0.5</td>\n",
       "      <td>0.0</td>\n",
       "    </tr>\n",
       "    <tr>\n",
       "      <th>1</th>\n",
       "      <td>2.0</td>\n",
       "      <td>6.0</td>\n",
       "      <td>29.0</td>\n",
       "      <td>61.0</td>\n",
       "      <td>13.0</td>\n",
       "      <td>1.25</td>\n",
       "      <td>64.40</td>\n",
       "      <td>4.1</td>\n",
       "      <td>7.6</td>\n",
       "      <td>1.0</td>\n",
       "      <td>3.9</td>\n",
       "      <td>0.4</td>\n",
       "      <td>0.0</td>\n",
       "    </tr>\n",
       "    <tr>\n",
       "      <th>2</th>\n",
       "      <td>3.0</td>\n",
       "      <td>6.0</td>\n",
       "      <td>26.0</td>\n",
       "      <td>82.0</td>\n",
       "      <td>21.5</td>\n",
       "      <td>1.25</td>\n",
       "      <td>47.74</td>\n",
       "      <td>2.5</td>\n",
       "      <td>7.1</td>\n",
       "      <td>0.3</td>\n",
       "      <td>2.7</td>\n",
       "      <td>0.1</td>\n",
       "      <td>0.0</td>\n",
       "    </tr>\n",
       "    <tr>\n",
       "      <th>3</th>\n",
       "      <td>4.0</td>\n",
       "      <td>6.0</td>\n",
       "      <td>25.0</td>\n",
       "      <td>89.0</td>\n",
       "      <td>13.0</td>\n",
       "      <td>1.25</td>\n",
       "      <td>47.74</td>\n",
       "      <td>1.3</td>\n",
       "      <td>6.9</td>\n",
       "      <td>0.0</td>\n",
       "      <td>1.7</td>\n",
       "      <td>0.0</td>\n",
       "      <td>0.0</td>\n",
       "    </tr>\n",
       "    <tr>\n",
       "      <th>4</th>\n",
       "      <td>5.0</td>\n",
       "      <td>6.0</td>\n",
       "      <td>27.0</td>\n",
       "      <td>77.0</td>\n",
       "      <td>16.0</td>\n",
       "      <td>0.00</td>\n",
       "      <td>64.80</td>\n",
       "      <td>3.0</td>\n",
       "      <td>14.2</td>\n",
       "      <td>1.2</td>\n",
       "      <td>3.9</td>\n",
       "      <td>0.5</td>\n",
       "      <td>0.0</td>\n",
       "    </tr>\n",
       "  </tbody>\n",
       "</table>\n",
       "</div>"
      ],
      "text/plain": [
       "   day  month  Temperature    RH    Ws  Rain   FFMC  DMC    DC  ISI  BUI  FWI  \\\n",
       "0  1.0    6.0         29.0  57.0  18.0  0.00  65.70  3.4   7.6  1.3  3.4  0.5   \n",
       "1  2.0    6.0         29.0  61.0  13.0  1.25  64.40  4.1   7.6  1.0  3.9  0.4   \n",
       "2  3.0    6.0         26.0  82.0  21.5  1.25  47.74  2.5   7.1  0.3  2.7  0.1   \n",
       "3  4.0    6.0         25.0  89.0  13.0  1.25  47.74  1.3   6.9  0.0  1.7  0.0   \n",
       "4  5.0    6.0         27.0  77.0  16.0  0.00  64.80  3.0  14.2  1.2  3.9  0.5   \n",
       "\n",
       "   Classes  \n",
       "0      0.0  \n",
       "1      0.0  \n",
       "2      0.0  \n",
       "3      0.0  \n",
       "4      0.0  "
      ]
     },
     "execution_count": 3,
     "metadata": {},
     "output_type": "execute_result"
    }
   ],
   "source": [
    "df=pd.read_csv(\"D:\\INeuron\\Full Stack data science\\Coding\\ML\\Job_Project\\Model_ready_data.csv\",index_col=0)\n",
    "df.head()"
   ]
  },
  {
   "cell_type": "code",
   "execution_count": 4,
   "metadata": {},
   "outputs": [
    {
     "data": {
      "text/html": [
       "<div>\n",
       "<style scoped>\n",
       "    .dataframe tbody tr th:only-of-type {\n",
       "        vertical-align: middle;\n",
       "    }\n",
       "\n",
       "    .dataframe tbody tr th {\n",
       "        vertical-align: top;\n",
       "    }\n",
       "\n",
       "    .dataframe thead th {\n",
       "        text-align: right;\n",
       "    }\n",
       "</style>\n",
       "<table border=\"1\" class=\"dataframe\">\n",
       "  <thead>\n",
       "    <tr style=\"text-align: right;\">\n",
       "      <th></th>\n",
       "      <th>day</th>\n",
       "      <th>month</th>\n",
       "      <th>Temperature</th>\n",
       "      <th>RH</th>\n",
       "      <th>Ws</th>\n",
       "      <th>Rain</th>\n",
       "      <th>FFMC</th>\n",
       "      <th>DMC</th>\n",
       "      <th>DC</th>\n",
       "      <th>ISI</th>\n",
       "      <th>BUI</th>\n",
       "      <th>FWI</th>\n",
       "      <th>Classes</th>\n",
       "    </tr>\n",
       "  </thead>\n",
       "  <tbody>\n",
       "    <tr>\n",
       "      <th>0</th>\n",
       "      <td>1</td>\n",
       "      <td>6</td>\n",
       "      <td>29.0</td>\n",
       "      <td>57.0</td>\n",
       "      <td>18.0</td>\n",
       "      <td>0.00</td>\n",
       "      <td>65.70</td>\n",
       "      <td>3.4</td>\n",
       "      <td>7.6</td>\n",
       "      <td>1.3</td>\n",
       "      <td>3.4</td>\n",
       "      <td>0.5</td>\n",
       "      <td>0</td>\n",
       "    </tr>\n",
       "    <tr>\n",
       "      <th>1</th>\n",
       "      <td>2</td>\n",
       "      <td>6</td>\n",
       "      <td>29.0</td>\n",
       "      <td>61.0</td>\n",
       "      <td>13.0</td>\n",
       "      <td>1.25</td>\n",
       "      <td>64.40</td>\n",
       "      <td>4.1</td>\n",
       "      <td>7.6</td>\n",
       "      <td>1.0</td>\n",
       "      <td>3.9</td>\n",
       "      <td>0.4</td>\n",
       "      <td>0</td>\n",
       "    </tr>\n",
       "    <tr>\n",
       "      <th>2</th>\n",
       "      <td>3</td>\n",
       "      <td>6</td>\n",
       "      <td>26.0</td>\n",
       "      <td>82.0</td>\n",
       "      <td>21.5</td>\n",
       "      <td>1.25</td>\n",
       "      <td>47.74</td>\n",
       "      <td>2.5</td>\n",
       "      <td>7.1</td>\n",
       "      <td>0.3</td>\n",
       "      <td>2.7</td>\n",
       "      <td>0.1</td>\n",
       "      <td>0</td>\n",
       "    </tr>\n",
       "    <tr>\n",
       "      <th>3</th>\n",
       "      <td>4</td>\n",
       "      <td>6</td>\n",
       "      <td>25.0</td>\n",
       "      <td>89.0</td>\n",
       "      <td>13.0</td>\n",
       "      <td>1.25</td>\n",
       "      <td>47.74</td>\n",
       "      <td>1.3</td>\n",
       "      <td>6.9</td>\n",
       "      <td>0.0</td>\n",
       "      <td>1.7</td>\n",
       "      <td>0.0</td>\n",
       "      <td>0</td>\n",
       "    </tr>\n",
       "    <tr>\n",
       "      <th>4</th>\n",
       "      <td>5</td>\n",
       "      <td>6</td>\n",
       "      <td>27.0</td>\n",
       "      <td>77.0</td>\n",
       "      <td>16.0</td>\n",
       "      <td>0.00</td>\n",
       "      <td>64.80</td>\n",
       "      <td>3.0</td>\n",
       "      <td>14.2</td>\n",
       "      <td>1.2</td>\n",
       "      <td>3.9</td>\n",
       "      <td>0.5</td>\n",
       "      <td>0</td>\n",
       "    </tr>\n",
       "  </tbody>\n",
       "</table>\n",
       "</div>"
      ],
      "text/plain": [
       "   day  month  Temperature    RH    Ws  Rain   FFMC  DMC    DC  ISI  BUI  FWI  \\\n",
       "0    1      6         29.0  57.0  18.0  0.00  65.70  3.4   7.6  1.3  3.4  0.5   \n",
       "1    2      6         29.0  61.0  13.0  1.25  64.40  4.1   7.6  1.0  3.9  0.4   \n",
       "2    3      6         26.0  82.0  21.5  1.25  47.74  2.5   7.1  0.3  2.7  0.1   \n",
       "3    4      6         25.0  89.0  13.0  1.25  47.74  1.3   6.9  0.0  1.7  0.0   \n",
       "4    5      6         27.0  77.0  16.0  0.00  64.80  3.0  14.2  1.2  3.9  0.5   \n",
       "\n",
       "   Classes  \n",
       "0        0  \n",
       "1        0  \n",
       "2        0  \n",
       "3        0  \n",
       "4        0  "
      ]
     },
     "execution_count": 4,
     "metadata": {},
     "output_type": "execute_result"
    }
   ],
   "source": [
    "df=df.astype({'day':int, 'month':int,'Classes':int})\n",
    "df.head()"
   ]
  },
  {
   "cell_type": "code",
   "execution_count": 5,
   "metadata": {},
   "outputs": [],
   "source": [
    "X=df.drop(columns=['Temperature'],axis=1)\n",
    "y=df['Temperature']"
   ]
  },
  {
   "cell_type": "code",
   "execution_count": 6,
   "metadata": {},
   "outputs": [],
   "source": [
    "X_train,X_test,y_train,y_test=train_test_split(X,y,test_size=0.3,random_state=42)"
   ]
  },
  {
   "cell_type": "markdown",
   "metadata": {},
   "source": [
    "# LinearRegression"
   ]
  },
  {
   "cell_type": "code",
   "execution_count": 7,
   "metadata": {},
   "outputs": [
    {
     "name": "stdout",
     "output_type": "stream",
     "text": [
      "R2 Score: 0.5948802746344921\n",
      "MAE: 1.6706923565855185\n"
     ]
    }
   ],
   "source": [
    "linear=LinearRegression()\n",
    "linear_model=linear.fit(X_train,y_train)\n",
    "pred=linear_model.predict(X_test)\n",
    "\n",
    "R2_Score=r2_score(y_test,pred)\n",
    "MAE=mean_absolute_error(y_test,pred)\n",
    "\n",
    "print(\"R2 Score:\",R2_Score)\n",
    "print(\"MAE:\",MAE)"
   ]
  },
  {
   "cell_type": "markdown",
   "metadata": {},
   "source": [
    "# Ridge"
   ]
  },
  {
   "cell_type": "code",
   "execution_count": 8,
   "metadata": {},
   "outputs": [
    {
     "name": "stdout",
     "output_type": "stream",
     "text": [
      "R2 Score: 0.5933323387237098\n",
      "MAE: 1.6749358131983219\n"
     ]
    }
   ],
   "source": [
    "ridge=Ridge()\n",
    "ridge_model=ridge.fit(X_train,y_train)\n",
    "pred=ridge_model.predict(X_test)\n",
    "\n",
    "R2_Score=r2_score(y_test,pred)\n",
    "MAE=mean_absolute_error(y_test,pred)\n",
    "\n",
    "print(\"R2 Score:\",R2_Score)\n",
    "print(\"MAE:\",MAE)"
   ]
  },
  {
   "cell_type": "markdown",
   "metadata": {},
   "source": [
    "# Lasso"
   ]
  },
  {
   "cell_type": "code",
   "execution_count": 9,
   "metadata": {},
   "outputs": [
    {
     "name": "stdout",
     "output_type": "stream",
     "text": [
      "R2 Score: 0.505605019583005\n",
      "MAE: 1.8298699159496983\n"
     ]
    }
   ],
   "source": [
    "lasso=Lasso()\n",
    "lasso_model=lasso.fit(X_train,y_train)\n",
    "pred=lasso_model.predict(X_test)\n",
    "\n",
    "R2_Score=r2_score(y_test,pred)\n",
    "MAE=mean_absolute_error(y_test,pred)\n",
    "\n",
    "print(\"R2 Score:\",R2_Score)\n",
    "print(\"MAE:\",MAE)"
   ]
  },
  {
   "cell_type": "markdown",
   "metadata": {},
   "source": [
    "# ElasticNet"
   ]
  },
  {
   "cell_type": "code",
   "execution_count": 10,
   "metadata": {},
   "outputs": [
    {
     "name": "stdout",
     "output_type": "stream",
     "text": [
      "R2 Score: 0.530161963650525\n",
      "MAE: 1.7980050789221773\n"
     ]
    }
   ],
   "source": [
    "elastic=ElasticNet()\n",
    "elastic_model=elastic.fit(X_train,y_train)\n",
    "pred=elastic_model.predict(X_test)\n",
    "\n",
    "R2_Score=r2_score(y_test,pred)\n",
    "MAE=mean_absolute_error(y_test,pred)\n",
    "\n",
    "print(\"R2 Score:\",R2_Score)\n",
    "print(\"MAE:\",MAE)"
   ]
  },
  {
   "cell_type": "markdown",
   "metadata": {},
   "source": [
    "# DecisionTreeRegressor"
   ]
  },
  {
   "cell_type": "code",
   "execution_count": 11,
   "metadata": {},
   "outputs": [
    {
     "name": "stdout",
     "output_type": "stream",
     "text": [
      "R2 Score: 0.2603092352695362\n",
      "MAE: 2.1621621621621623\n"
     ]
    }
   ],
   "source": [
    "DT_Reg=DecisionTreeRegressor()\n",
    "DT_Reg_model=DT_Reg.fit(X_train,y_train)\n",
    "pred=DT_Reg_model.predict(X_test)\n",
    "\n",
    "R2_Score=r2_score(y_test,pred)\n",
    "MAE=mean_absolute_error(y_test,pred)\n",
    "\n",
    "print(\"R2 Score:\",R2_Score)\n",
    "print(\"MAE:\",MAE)"
   ]
  },
  {
   "cell_type": "markdown",
   "metadata": {},
   "source": [
    "# RandomForestRegressor"
   ]
  },
  {
   "cell_type": "code",
   "execution_count": 12,
   "metadata": {},
   "outputs": [
    {
     "name": "stdout",
     "output_type": "stream",
     "text": [
      "R2 Score: 0.6348494893439198\n",
      "MAE: 1.5116216216216214\n"
     ]
    }
   ],
   "source": [
    "RF_Reg=RandomForestRegressor()\n",
    "RF_Reg_model=RF_Reg.fit(X_train,y_train)\n",
    "pred=RF_Reg_model.predict(X_test)\n",
    "\n",
    "R2_Score=r2_score(y_test,pred)\n",
    "MAE=mean_absolute_error(y_test,pred)\n",
    "\n",
    "print(\"R2 Score:\",R2_Score)\n",
    "print(\"MAE:\",MAE)"
   ]
  },
  {
   "cell_type": "markdown",
   "metadata": {},
   "source": [
    "# AdaBoostRegressor"
   ]
  },
  {
   "cell_type": "code",
   "execution_count": 13,
   "metadata": {},
   "outputs": [
    {
     "name": "stdout",
     "output_type": "stream",
     "text": [
      "R2 Score: 0.6488200088622301\n",
      "MAE: 1.4366888416028785\n"
     ]
    }
   ],
   "source": [
    "AB_Reg=AdaBoostRegressor()\n",
    "AB_Reg_model=AB_Reg.fit(X_train,y_train)\n",
    "pred=AB_Reg_model.predict(X_test)\n",
    "\n",
    "R2_Score=r2_score(y_test,pred)\n",
    "MAE=mean_absolute_error(y_test,pred)\n",
    "\n",
    "print(\"R2 Score:\",R2_Score)\n",
    "print(\"MAE:\",MAE)"
   ]
  },
  {
   "cell_type": "markdown",
   "metadata": {},
   "source": [
    "# GradientBoostingRegressor"
   ]
  },
  {
   "cell_type": "code",
   "execution_count": 14,
   "metadata": {},
   "outputs": [
    {
     "name": "stdout",
     "output_type": "stream",
     "text": [
      "R2 Score: 0.6226580706223686\n",
      "MAE: 1.5806434369721536\n"
     ]
    }
   ],
   "source": [
    "GB_Reg=GradientBoostingRegressor()\n",
    "GB_Reg_model=GB_Reg.fit(X_train,y_train)\n",
    "pred=GB_Reg_model.predict(X_test)\n",
    "\n",
    "R2_Score=r2_score(y_test,pred)\n",
    "MAE=mean_absolute_error(y_test,pred)\n",
    "\n",
    "print(\"R2 Score:\",R2_Score)\n",
    "print(\"MAE:\",MAE)"
   ]
  },
  {
   "cell_type": "markdown",
   "metadata": {},
   "source": [
    "# SVR"
   ]
  },
  {
   "cell_type": "code",
   "execution_count": 15,
   "metadata": {},
   "outputs": [
    {
     "name": "stdout",
     "output_type": "stream",
     "text": [
      "R2 Score: 0.5439243258883792\n",
      "MAE: 1.7123104337894435\n"
     ]
    }
   ],
   "source": [
    "svr=SVR()\n",
    "svr_model=svr.fit(X_train,y_train)\n",
    "pred=svr_model.predict(X_test)\n",
    "\n",
    "R2_Score=r2_score(y_test,pred)\n",
    "MAE=mean_absolute_error(y_test,pred)\n",
    "\n",
    "print(\"R2 Score:\",R2_Score)\n",
    "print(\"MAE:\",MAE)"
   ]
  },
  {
   "cell_type": "markdown",
   "metadata": {},
   "source": [
    "# KNeighborsRegressor"
   ]
  },
  {
   "cell_type": "code",
   "execution_count": 16,
   "metadata": {},
   "outputs": [
    {
     "name": "stdout",
     "output_type": "stream",
     "text": [
      "R2 Score: 0.5552702047638947\n",
      "MAE: 1.6594594594594594\n"
     ]
    }
   ],
   "source": [
    "KN_Reg=KNeighborsRegressor()\n",
    "KN_Reg_model=KN_Reg.fit(X_train,y_train)\n",
    "pred=KN_Reg_model.predict(X_test)\n",
    "\n",
    "R2_Score=r2_score(y_test,pred)\n",
    "MAE=mean_absolute_error(y_test,pred)\n",
    "\n",
    "print(\"R2 Score:\",R2_Score)\n",
    "print(\"MAE:\",MAE)"
   ]
  },
  {
   "cell_type": "code",
   "execution_count": 17,
   "metadata": {},
   "outputs": [],
   "source": [
    "from sklearn.linear_model import LinearRegression, Ridge, Lasso, ElasticNet\n",
    "from sklearn.tree import DecisionTreeRegressor\n",
    "from sklearn.ensemble import RandomForestRegressor, AdaBoostRegressor, GradientBoostingRegressor\n",
    "from sklearn.svm import SVR\n",
    "from sklearn.neighbors import KNeighborsRegressor"
   ]
  },
  {
   "cell_type": "code",
   "execution_count": 18,
   "metadata": {},
   "outputs": [
    {
     "name": "stdout",
     "output_type": "stream",
     "text": [
      "MODEL_NAME: LinearRegression()\n",
      "-------------------------------------------\n",
      "R2 Score: 0.5948802746344921\n",
      "MAE: 1.6706923565855185\n",
      "==============================================================================================================================\n",
      "MODEL_NAME: Ridge()\n",
      "-------------------------------------------\n",
      "R2 Score: 0.5933323387237098\n",
      "MAE: 1.6749358131983219\n",
      "==============================================================================================================================\n",
      "MODEL_NAME: Lasso()\n",
      "-------------------------------------------\n",
      "R2 Score: 0.505605019583005\n",
      "MAE: 1.8298699159496983\n",
      "==============================================================================================================================\n",
      "MODEL_NAME: ElasticNet()\n",
      "-------------------------------------------\n",
      "R2 Score: 0.530161963650525\n",
      "MAE: 1.7980050789221773\n",
      "==============================================================================================================================\n",
      "MODEL_NAME: DecisionTreeRegressor()\n",
      "-------------------------------------------\n",
      "R2 Score: 0.18856665273715012\n",
      "MAE: 2.108108108108108\n",
      "==============================================================================================================================\n"
     ]
    },
    {
     "name": "stdout",
     "output_type": "stream",
     "text": [
      "MODEL_NAME: RandomForestRegressor()\n",
      "-------------------------------------------\n",
      "R2 Score: 0.6462275846218137\n",
      "MAE: 1.504662162162162\n",
      "==============================================================================================================================\n",
      "MODEL_NAME: AdaBoostRegressor()\n",
      "-------------------------------------------\n",
      "R2 Score: 0.6577275342083451\n",
      "MAE: 1.5232179837273723\n",
      "==============================================================================================================================\n",
      "MODEL_NAME: GradientBoostingRegressor()\n",
      "-------------------------------------------\n",
      "R2 Score: 0.622160442908136\n",
      "MAE: 1.5683369419476445\n",
      "==============================================================================================================================\n",
      "MODEL_NAME: SVR()\n",
      "-------------------------------------------\n",
      "R2 Score: 0.5439243258883792\n",
      "MAE: 1.7123104337894435\n",
      "==============================================================================================================================\n",
      "MODEL_NAME: KNeighborsRegressor()\n",
      "-------------------------------------------\n",
      "R2 Score: 0.5552702047638947\n",
      "MAE: 1.6594594594594594\n",
      "==============================================================================================================================\n",
      "----------------------------------------------------------------------------------------------------------------------------------\n",
      "                    Model_name  R2_Score   MAE\n",
      "0           LinearRegression()     59.49  1.67\n",
      "1                      Ridge()     59.33  1.67\n",
      "2                      Lasso()     50.56  1.83\n",
      "3                 ElasticNet()     53.02  1.80\n",
      "4      DecisionTreeRegressor()     18.86  2.11\n",
      "5      RandomForestRegressor()     64.62  1.50\n",
      "6          AdaBoostRegressor()     65.77  1.52\n",
      "7  GradientBoostingRegressor()     62.22  1.57\n",
      "8                        SVR()     54.39  1.71\n",
      "9        KNeighborsRegressor()     55.53  1.66\n"
     ]
    }
   ],
   "source": [
    "models_list=[LinearRegression(), Ridge(), Lasso(), ElasticNet(),DecisionTreeRegressor(),RandomForestRegressor(), AdaBoostRegressor(), GradientBoostingRegressor(),SVR(),KNeighborsRegressor()]\n",
    "\n",
    "predict_result=pd.DataFrame(columns=['Model_name','R2_Score','MAE'])\n",
    "\n",
    "def prediction(X_train,y_train,X_test,y_test):\n",
    "    for i in range(len(models_list)):\n",
    "        current_model=models_list[i]\n",
    "        model_fit=current_model.fit(X_train,y_train)\n",
    "        pred=model_fit.predict(X_test)\n",
    "        R2_Score=r2_score(y_test,pred)\n",
    "        MAE=mean_absolute_error(y_test,pred)\n",
    "\n",
    "        print(\"MODEL_NAME:\",current_model)\n",
    "        print(\"-------------------------------------------\")\n",
    "        print(\"R2 Score:\",R2_Score)\n",
    "        print(\"MAE:\",MAE)\n",
    "        print(\"==============================================================================================================================\")\n",
    "\n",
    "        predict_result.loc[len(predict_result.index)]=[str(models_list[i]),round(R2_Score*100,2),round(MAE,2)]\n",
    "\n",
    "\n",
    "    print(\"----------------------------------------------------------------------------------------------------------------------------------\")\n",
    "\n",
    "    print(predict_result)\n",
    "\n",
    "\n",
    "prediction(X_train,y_train,X_test,y_test)"
   ]
  },
  {
   "cell_type": "code",
   "execution_count": 27,
   "metadata": {},
   "outputs": [
    {
     "data": {
      "text/html": [
       "<div>\n",
       "<style scoped>\n",
       "    .dataframe tbody tr th:only-of-type {\n",
       "        vertical-align: middle;\n",
       "    }\n",
       "\n",
       "    .dataframe tbody tr th {\n",
       "        vertical-align: top;\n",
       "    }\n",
       "\n",
       "    .dataframe thead th {\n",
       "        text-align: right;\n",
       "    }\n",
       "</style>\n",
       "<table border=\"1\" class=\"dataframe\">\n",
       "  <thead>\n",
       "    <tr style=\"text-align: right;\">\n",
       "      <th></th>\n",
       "      <th>Model_name</th>\n",
       "      <th>R2_Score</th>\n",
       "      <th>MAE</th>\n",
       "    </tr>\n",
       "  </thead>\n",
       "  <tbody>\n",
       "    <tr>\n",
       "      <th>6</th>\n",
       "      <td>AdaBoostRegressor()</td>\n",
       "      <td>65.77</td>\n",
       "      <td>1.52</td>\n",
       "    </tr>\n",
       "  </tbody>\n",
       "</table>\n",
       "</div>"
      ],
      "text/plain": [
       "            Model_name  R2_Score   MAE\n",
       "6  AdaBoostRegressor()     65.77  1.52"
      ]
     },
     "execution_count": 27,
     "metadata": {},
     "output_type": "execute_result"
    }
   ],
   "source": [
    "Top_models=predict_result[predict_result['R2_Score']==predict_result['R2_Score'].max()]\n",
    "Top_models"
   ]
  },
  {
   "cell_type": "markdown",
   "metadata": {},
   "source": [
    "# Perform the Best Model Fit"
   ]
  },
  {
   "cell_type": "code",
   "execution_count": 28,
   "metadata": {},
   "outputs": [
    {
     "name": "stdout",
     "output_type": "stream",
     "text": [
      "R2 Score: 0.6595902408196983\n",
      "MAE: 1.4730167402312841\n"
     ]
    }
   ],
   "source": [
    "model_name=Top_models['Model_name'].iloc[0]\n",
    "model=eval(model_name)\n",
    "\n",
    "best_model=model\n",
    "best_model_fit=best_model.fit(X_train,y_train)\n",
    "pred=best_model_fit.predict(X_test)\n",
    "\n",
    "R2_Score=r2_score(y_test,pred)\n",
    "MAE=mean_absolute_error(y_test,pred)\n",
    "\n",
    "print(\"R2 Score:\",R2_Score)\n",
    "print(\"MAE:\",MAE)"
   ]
  },
  {
   "cell_type": "markdown",
   "metadata": {},
   "source": [
    "# Create a Pickle file with the best model"
   ]
  },
  {
   "cell_type": "code",
   "execution_count": 29,
   "metadata": {},
   "outputs": [],
   "source": [
    "import pickle\n",
    "pickle_filename=model_name.replace(\"()\",\"\")\n",
    "pickle.dump(best_model,open(f\"{pickle_filename}.pkl\",'wb'))"
   ]
  },
  {
   "cell_type": "markdown",
   "metadata": {},
   "source": [
    "# Load Pickle file"
   ]
  },
  {
   "cell_type": "code",
   "execution_count": 30,
   "metadata": {},
   "outputs": [
    {
     "data": {
      "text/plain": [
       "array([32.85436893, 32.83333333, 35.21538462, 34.8490566 , 36.52941176,\n",
       "       32.3255814 , 35.11111111, 27.67647059, 29.65116279, 29.66666667,\n",
       "       29.32432432, 32.23636364, 31.44117647, 33.2244898 , 34.03333333,\n",
       "       32.5308642 , 38.25806452, 27.20833333, 32.21428571, 33.45833333,\n",
       "       31.15151515, 28.29166667, 32.5       , 30.05882353, 37.9       ,\n",
       "       25.75      , 30.75      , 33.4375    , 35.25714286, 34.03333333,\n",
       "       32.5       , 30.8       , 32.5308642 , 33.4375    , 32.11428571,\n",
       "       32.11538462, 29.53333333, 35.2       , 30.05882353, 26.125     ,\n",
       "       34.8490566 , 32.11428571, 30.16666667, 27.20833333, 36.56410256,\n",
       "       32.5308642 , 32.21428571, 31.11111111, 35.25714286, 32.23636364,\n",
       "       35.85897436, 30.16666667, 31.925     , 33.575     , 34.46808511,\n",
       "       33.575     , 37.58490566, 30.4       , 30.3125    , 33.        ,\n",
       "       32.21428571, 28.18518519, 34.46808511, 30.16666667, 32.2826087 ,\n",
       "       25.85714286, 32.21428571, 29.88888889, 35.85897436, 35.25714286,\n",
       "       33.51428571, 30.16666667, 33.4375    , 34.46808511])"
      ]
     },
     "execution_count": 30,
     "metadata": {},
     "output_type": "execute_result"
    }
   ],
   "source": [
    "pickle_model=pickle.load(open(f\"{pickle_filename}.pkl\",'rb'))\n",
    "\n",
    "#Batch Input to gt the batch predicted output\n",
    "pickle_model.predict(X_test)"
   ]
  },
  {
   "cell_type": "code",
   "execution_count": 31,
   "metadata": {},
   "outputs": [
    {
     "data": {
      "text/plain": [
       "[[30.0, 6.0, 50.0, 14.0, 0.0, 88.7, 22.9, 92.8, 7.2, 28.3, 12.9, 1.0]]"
      ]
     },
     "execution_count": 31,
     "metadata": {},
     "output_type": "execute_result"
    }
   ],
   "source": [
    "single_input=[list(X_test.iloc[73,:].values)]\n",
    "single_input"
   ]
  },
  {
   "cell_type": "code",
   "execution_count": 32,
   "metadata": {},
   "outputs": [
    {
     "data": {
      "text/plain": [
       "34.46808510638298"
      ]
     },
     "execution_count": 32,
     "metadata": {},
     "output_type": "execute_result"
    }
   ],
   "source": [
    "pickle_model.predict(single_input)[0]"
   ]
  },
  {
   "cell_type": "code",
   "execution_count": null,
   "metadata": {},
   "outputs": [],
   "source": []
  }
 ],
 "metadata": {
  "kernelspec": {
   "display_name": "Python 3",
   "language": "python",
   "name": "python3"
  },
  "language_info": {
   "codemirror_mode": {
    "name": "ipython",
    "version": 3
   },
   "file_extension": ".py",
   "mimetype": "text/x-python",
   "name": "python",
   "nbconvert_exporter": "python",
   "pygments_lexer": "ipython3",
   "version": "3.11.4"
  }
 },
 "nbformat": 4,
 "nbformat_minor": 2
}
